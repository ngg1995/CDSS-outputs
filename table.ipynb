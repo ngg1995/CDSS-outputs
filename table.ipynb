{
 "cells": [
  {
   "cell_type": "code",
   "execution_count": null,
   "metadata": {},
   "outputs": [
    {
     "data": {
      "text/html": [
       "<pre style=\"white-space:pre;overflow-x:auto;line-height:normal;font-family:Menlo,'DejaVu Sans Mono',consolas,'Courier New',monospace\">Manim Community <span style=\"color: #008000; text-decoration-color: #008000\">v0.17.3</span>\n",
       "\n",
       "</pre>\n"
      ],
      "text/plain": [
       "Manim Community \u001b[32mv0.\u001b[0m\u001b[32m17.3\u001b[0m\n",
       "\n"
      ]
     },
     "metadata": {},
     "output_type": "display_data"
    }
   ],
   "source": [
    "from manim import *\n",
    "\n",
    "# Set the background color and text color\n",
    "config.background_color = WHITE\n",
    "Text.set_default(font=\"Helvetica Neue\", font_size=50, color=BLACK)\n",
    "MathTex.set_default(color=BLACK)\n",
    "Mobject.set_default(color=BLACK)\n",
    "TexTemplate.default_preamble += \"\\n\" + r\"\\newcommand{\\interval}[1]{\\left[\\underline{#1},\\overline{#1}\\right]}\"\n"
   ]
  },
  {
   "cell_type": "code",
   "execution_count": null,
   "metadata": {},
   "outputs": [
    {
     "data": {
      "text/html": [
       "<pre style=\"white-space:pre;overflow-x:auto;line-height:normal;font-family:Menlo,'DejaVu Sans Mono',consolas,'Courier New',monospace\"><span style=\"color: #7fbfbf; text-decoration-color: #7fbfbf\">[09/13/23 13:08:52] </span><span style=\"color: #008000; text-decoration-color: #008000\">INFO    </span> Animation <span style=\"color: #008000; text-decoration-color: #008000\">0</span> : Using cached data <span style=\"font-weight: bold\">(</span>hash :                           <a href=\"file:///Users/nickgray/Documents/WTPD/code/.pyenv/lib/python3.10/site-packages/manim/renderer/cairo_renderer.py\" target=\"_blank\"><span style=\"color: #7f7f7f; text-decoration-color: #7f7f7f\">cairo_renderer.py</span></a><span style=\"color: #7f7f7f; text-decoration-color: #7f7f7f\">:</span><a href=\"file:///Users/nickgray/Documents/WTPD/code/.pyenv/lib/python3.10/site-packages/manim/renderer/cairo_renderer.py#78\" target=\"_blank\"><span style=\"color: #7f7f7f; text-decoration-color: #7f7f7f\">78</span></a>\n",
       "<span style=\"color: #7fbfbf; text-decoration-color: #7fbfbf\">                    </span>         1874759939_1699521077_951070737<span style=\"font-weight: bold\">)</span>                                  <span style=\"color: #7f7f7f; text-decoration-color: #7f7f7f\">                    </span>\n",
       "</pre>\n"
      ],
      "text/plain": [
       "\u001b[2;36m[09/13/23 13:08:52]\u001b[0m\u001b[2;36m \u001b[0m\u001b[32mINFO    \u001b[0m Animation \u001b[32m0\u001b[0m : Using cached data \u001b[1m(\u001b[0mhash :                           \u001b]8;id=209030;file:///Users/nickgray/Documents/WTPD/code/.pyenv/lib/python3.10/site-packages/manim/renderer/cairo_renderer.py\u001b\\\u001b[2mcairo_renderer.py\u001b[0m\u001b]8;;\u001b\\\u001b[2m:\u001b[0m\u001b]8;id=231260;file:///Users/nickgray/Documents/WTPD/code/.pyenv/lib/python3.10/site-packages/manim/renderer/cairo_renderer.py#78\u001b\\\u001b[2m78\u001b[0m\u001b]8;;\u001b\\\n",
       "\u001b[2;36m                    \u001b[0m         1874759939_1699521077_951070737\u001b[1m)\u001b[0m                                  \u001b[2m                    \u001b[0m\n"
      ]
     },
     "metadata": {},
     "output_type": "display_data"
    },
    {
     "name": "stderr",
     "output_type": "stream",
     "text": [
      "                                                                                                                       \r"
     ]
    },
    {
     "data": {
      "text/html": [
       "<pre style=\"white-space:pre;overflow-x:auto;line-height:normal;font-family:Menlo,'DejaVu Sans Mono',consolas,'Courier New',monospace\"><span style=\"color: #7fbfbf; text-decoration-color: #7fbfbf\">[09/13/23 13:08:54] </span><span style=\"color: #008000; text-decoration-color: #008000\">INFO    </span> Animation <span style=\"color: #008000; text-decoration-color: #008000\">1</span> : Partial movie file written in                   <a href=\"file:///Users/nickgray/Documents/WTPD/code/.pyenv/lib/python3.10/site-packages/manim/scene/scene_file_writer.py\" target=\"_blank\"><span style=\"color: #7f7f7f; text-decoration-color: #7f7f7f\">scene_file_writer.py</span></a><span style=\"color: #7f7f7f; text-decoration-color: #7f7f7f\">:</span><a href=\"file:///Users/nickgray/Documents/WTPD/code/.pyenv/lib/python3.10/site-packages/manim/scene/scene_file_writer.py#527\" target=\"_blank\"><span style=\"color: #7f7f7f; text-decoration-color: #7f7f7f\">527</span></a>\n",
       "<span style=\"color: #7fbfbf; text-decoration-color: #7fbfbf\">                    </span>         <span style=\"color: #008000; text-decoration-color: #008000\">'/Users/nickgray/Documents/WTPD/code/media/videos/code/2160p6</span> <span style=\"color: #7f7f7f; text-decoration-color: #7f7f7f\">                        </span>\n",
       "<span style=\"color: #7fbfbf; text-decoration-color: #7fbfbf\">                    </span>         <span style=\"color: #008000; text-decoration-color: #008000\">0/partial_movie_files/PreciseTable/1533644010_869758780_27318</span> <span style=\"color: #7f7f7f; text-decoration-color: #7f7f7f\">                        </span>\n",
       "<span style=\"color: #7fbfbf; text-decoration-color: #7fbfbf\">                    </span>         <span style=\"color: #008000; text-decoration-color: #008000\">1576.mp4'</span>                                                     <span style=\"color: #7f7f7f; text-decoration-color: #7f7f7f\">                        </span>\n",
       "</pre>\n"
      ],
      "text/plain": [
       "\u001b[2;36m[09/13/23 13:08:54]\u001b[0m\u001b[2;36m \u001b[0m\u001b[32mINFO    \u001b[0m Animation \u001b[32m1\u001b[0m : Partial movie file written in                   \u001b]8;id=495819;file:///Users/nickgray/Documents/WTPD/code/.pyenv/lib/python3.10/site-packages/manim/scene/scene_file_writer.py\u001b\\\u001b[2mscene_file_writer.py\u001b[0m\u001b]8;;\u001b\\\u001b[2m:\u001b[0m\u001b]8;id=386963;file:///Users/nickgray/Documents/WTPD/code/.pyenv/lib/python3.10/site-packages/manim/scene/scene_file_writer.py#527\u001b\\\u001b[2m527\u001b[0m\u001b]8;;\u001b\\\n",
       "\u001b[2;36m                    \u001b[0m         \u001b[32m'/Users/nickgray/Documents/WTPD/code/media/videos/code/2160p6\u001b[0m \u001b[2m                        \u001b[0m\n",
       "\u001b[2;36m                    \u001b[0m         \u001b[32m0/partial_movie_files/PreciseTable/1533644010_869758780_27318\u001b[0m \u001b[2m                        \u001b[0m\n",
       "\u001b[2;36m                    \u001b[0m         \u001b[32m1576.mp4'\u001b[0m                                                     \u001b[2m                        \u001b[0m\n"
      ]
     },
     "metadata": {},
     "output_type": "display_data"
    },
    {
     "data": {
      "text/html": [
       "<pre style=\"white-space:pre;overflow-x:auto;line-height:normal;font-family:Menlo,'DejaVu Sans Mono',consolas,'Courier New',monospace\"><span style=\"color: #7fbfbf; text-decoration-color: #7fbfbf\">                    </span><span style=\"color: #008000; text-decoration-color: #008000\">INFO    </span> Animation <span style=\"color: #008000; text-decoration-color: #008000\">2</span> : Using cached data <span style=\"font-weight: bold\">(</span>hash :                           <a href=\"file:///Users/nickgray/Documents/WTPD/code/.pyenv/lib/python3.10/site-packages/manim/renderer/cairo_renderer.py\" target=\"_blank\"><span style=\"color: #7f7f7f; text-decoration-color: #7f7f7f\">cairo_renderer.py</span></a><span style=\"color: #7f7f7f; text-decoration-color: #7f7f7f\">:</span><a href=\"file:///Users/nickgray/Documents/WTPD/code/.pyenv/lib/python3.10/site-packages/manim/renderer/cairo_renderer.py#78\" target=\"_blank\"><span style=\"color: #7f7f7f; text-decoration-color: #7f7f7f\">78</span></a>\n",
       "<span style=\"color: #7fbfbf; text-decoration-color: #7fbfbf\">                    </span>         2066607476_1268292389_172775564<span style=\"font-weight: bold\">)</span>                                  <span style=\"color: #7f7f7f; text-decoration-color: #7f7f7f\">                    </span>\n",
       "</pre>\n"
      ],
      "text/plain": [
       "\u001b[2;36m                   \u001b[0m\u001b[2;36m \u001b[0m\u001b[32mINFO    \u001b[0m Animation \u001b[32m2\u001b[0m : Using cached data \u001b[1m(\u001b[0mhash :                           \u001b]8;id=180308;file:///Users/nickgray/Documents/WTPD/code/.pyenv/lib/python3.10/site-packages/manim/renderer/cairo_renderer.py\u001b\\\u001b[2mcairo_renderer.py\u001b[0m\u001b]8;;\u001b\\\u001b[2m:\u001b[0m\u001b]8;id=120791;file:///Users/nickgray/Documents/WTPD/code/.pyenv/lib/python3.10/site-packages/manim/renderer/cairo_renderer.py#78\u001b\\\u001b[2m78\u001b[0m\u001b]8;;\u001b\\\n",
       "\u001b[2;36m                    \u001b[0m         2066607476_1268292389_172775564\u001b[1m)\u001b[0m                                  \u001b[2m                    \u001b[0m\n"
      ]
     },
     "metadata": {},
     "output_type": "display_data"
    },
    {
     "name": "stderr",
     "output_type": "stream",
     "text": [
      "                                                                                                             \r"
     ]
    },
    {
     "data": {
      "text/html": [
       "<pre style=\"white-space:pre;overflow-x:auto;line-height:normal;font-family:Menlo,'DejaVu Sans Mono',consolas,'Courier New',monospace\"><span style=\"color: #7fbfbf; text-decoration-color: #7fbfbf\">                    </span><span style=\"color: #008000; text-decoration-color: #008000\">INFO    </span> Animation <span style=\"color: #008000; text-decoration-color: #008000\">3</span> : Using cached data <span style=\"font-weight: bold\">(</span>hash :                           <a href=\"file:///Users/nickgray/Documents/WTPD/code/.pyenv/lib/python3.10/site-packages/manim/renderer/cairo_renderer.py\" target=\"_blank\"><span style=\"color: #7f7f7f; text-decoration-color: #7f7f7f\">cairo_renderer.py</span></a><span style=\"color: #7f7f7f; text-decoration-color: #7f7f7f\">:</span><a href=\"file:///Users/nickgray/Documents/WTPD/code/.pyenv/lib/python3.10/site-packages/manim/renderer/cairo_renderer.py#78\" target=\"_blank\"><span style=\"color: #7f7f7f; text-decoration-color: #7f7f7f\">78</span></a>\n",
       "<span style=\"color: #7fbfbf; text-decoration-color: #7fbfbf\">                    </span>         2066607476_464466401_2095581766<span style=\"font-weight: bold\">)</span>                                  <span style=\"color: #7f7f7f; text-decoration-color: #7f7f7f\">                    </span>\n",
       "</pre>\n"
      ],
      "text/plain": [
       "\u001b[2;36m                   \u001b[0m\u001b[2;36m \u001b[0m\u001b[32mINFO    \u001b[0m Animation \u001b[32m3\u001b[0m : Using cached data \u001b[1m(\u001b[0mhash :                           \u001b]8;id=841491;file:///Users/nickgray/Documents/WTPD/code/.pyenv/lib/python3.10/site-packages/manim/renderer/cairo_renderer.py\u001b\\\u001b[2mcairo_renderer.py\u001b[0m\u001b]8;;\u001b\\\u001b[2m:\u001b[0m\u001b]8;id=712611;file:///Users/nickgray/Documents/WTPD/code/.pyenv/lib/python3.10/site-packages/manim/renderer/cairo_renderer.py#78\u001b\\\u001b[2m78\u001b[0m\u001b]8;;\u001b\\\n",
       "\u001b[2;36m                    \u001b[0m         2066607476_464466401_2095581766\u001b[1m)\u001b[0m                                  \u001b[2m                    \u001b[0m\n"
      ]
     },
     "metadata": {},
     "output_type": "display_data"
    },
    {
     "name": "stderr",
     "output_type": "stream",
     "text": [
      "                                                                                  \r"
     ]
    },
    {
     "data": {
      "text/html": [
       "<pre style=\"white-space:pre;overflow-x:auto;line-height:normal;font-family:Menlo,'DejaVu Sans Mono',consolas,'Courier New',monospace\"><span style=\"color: #7fbfbf; text-decoration-color: #7fbfbf\">                    </span><span style=\"color: #008000; text-decoration-color: #008000\">INFO    </span> Animation <span style=\"color: #008000; text-decoration-color: #008000\">4</span> : Using cached data <span style=\"font-weight: bold\">(</span>hash :                           <a href=\"file:///Users/nickgray/Documents/WTPD/code/.pyenv/lib/python3.10/site-packages/manim/renderer/cairo_renderer.py\" target=\"_blank\"><span style=\"color: #7f7f7f; text-decoration-color: #7f7f7f\">cairo_renderer.py</span></a><span style=\"color: #7f7f7f; text-decoration-color: #7f7f7f\">:</span><a href=\"file:///Users/nickgray/Documents/WTPD/code/.pyenv/lib/python3.10/site-packages/manim/renderer/cairo_renderer.py#78\" target=\"_blank\"><span style=\"color: #7f7f7f; text-decoration-color: #7f7f7f\">78</span></a>\n",
       "<span style=\"color: #7fbfbf; text-decoration-color: #7fbfbf\">                    </span>         2066607476_172669473_4265479143<span style=\"font-weight: bold\">)</span>                                  <span style=\"color: #7f7f7f; text-decoration-color: #7f7f7f\">                    </span>\n",
       "</pre>\n"
      ],
      "text/plain": [
       "\u001b[2;36m                   \u001b[0m\u001b[2;36m \u001b[0m\u001b[32mINFO    \u001b[0m Animation \u001b[32m4\u001b[0m : Using cached data \u001b[1m(\u001b[0mhash :                           \u001b]8;id=466539;file:///Users/nickgray/Documents/WTPD/code/.pyenv/lib/python3.10/site-packages/manim/renderer/cairo_renderer.py\u001b\\\u001b[2mcairo_renderer.py\u001b[0m\u001b]8;;\u001b\\\u001b[2m:\u001b[0m\u001b]8;id=541620;file:///Users/nickgray/Documents/WTPD/code/.pyenv/lib/python3.10/site-packages/manim/renderer/cairo_renderer.py#78\u001b\\\u001b[2m78\u001b[0m\u001b]8;;\u001b\\\n",
       "\u001b[2;36m                    \u001b[0m         2066607476_172669473_4265479143\u001b[1m)\u001b[0m                                  \u001b[2m                    \u001b[0m\n"
      ]
     },
     "metadata": {},
     "output_type": "display_data"
    },
    {
     "name": "stderr",
     "output_type": "stream",
     "text": [
      "                                                                                                                                                       \r"
     ]
    },
    {
     "data": {
      "text/html": [
       "<pre style=\"white-space:pre;overflow-x:auto;line-height:normal;font-family:Menlo,'DejaVu Sans Mono',consolas,'Courier New',monospace\"><span style=\"color: #7fbfbf; text-decoration-color: #7fbfbf\">[09/13/23 13:08:55] </span><span style=\"color: #008000; text-decoration-color: #008000\">INFO    </span> Animation <span style=\"color: #008000; text-decoration-color: #008000\">5</span> : Using cached data <span style=\"font-weight: bold\">(</span>hash :                           <a href=\"file:///Users/nickgray/Documents/WTPD/code/.pyenv/lib/python3.10/site-packages/manim/renderer/cairo_renderer.py\" target=\"_blank\"><span style=\"color: #7f7f7f; text-decoration-color: #7f7f7f\">cairo_renderer.py</span></a><span style=\"color: #7f7f7f; text-decoration-color: #7f7f7f\">:</span><a href=\"file:///Users/nickgray/Documents/WTPD/code/.pyenv/lib/python3.10/site-packages/manim/renderer/cairo_renderer.py#78\" target=\"_blank\"><span style=\"color: #7f7f7f; text-decoration-color: #7f7f7f\">78</span></a>\n",
       "<span style=\"color: #7fbfbf; text-decoration-color: #7fbfbf\">                    </span>         2066607476_498105696_564125252<span style=\"font-weight: bold\">)</span>                                   <span style=\"color: #7f7f7f; text-decoration-color: #7f7f7f\">                    </span>\n",
       "</pre>\n"
      ],
      "text/plain": [
       "\u001b[2;36m[09/13/23 13:08:55]\u001b[0m\u001b[2;36m \u001b[0m\u001b[32mINFO    \u001b[0m Animation \u001b[32m5\u001b[0m : Using cached data \u001b[1m(\u001b[0mhash :                           \u001b]8;id=172264;file:///Users/nickgray/Documents/WTPD/code/.pyenv/lib/python3.10/site-packages/manim/renderer/cairo_renderer.py\u001b\\\u001b[2mcairo_renderer.py\u001b[0m\u001b]8;;\u001b\\\u001b[2m:\u001b[0m\u001b]8;id=179315;file:///Users/nickgray/Documents/WTPD/code/.pyenv/lib/python3.10/site-packages/manim/renderer/cairo_renderer.py#78\u001b\\\u001b[2m78\u001b[0m\u001b]8;;\u001b\\\n",
       "\u001b[2;36m                    \u001b[0m         2066607476_498105696_564125252\u001b[1m)\u001b[0m                                   \u001b[2m                    \u001b[0m\n"
      ]
     },
     "metadata": {},
     "output_type": "display_data"
    },
    {
     "data": {
      "text/html": [
       "<pre style=\"white-space:pre;overflow-x:auto;line-height:normal;font-family:Menlo,'DejaVu Sans Mono',consolas,'Courier New',monospace\"><span style=\"color: #7fbfbf; text-decoration-color: #7fbfbf\">                    </span><span style=\"color: #008000; text-decoration-color: #008000\">INFO    </span> Combining to Movie file.                                      <a href=\"file:///Users/nickgray/Documents/WTPD/code/.pyenv/lib/python3.10/site-packages/manim/scene/scene_file_writer.py\" target=\"_blank\"><span style=\"color: #7f7f7f; text-decoration-color: #7f7f7f\">scene_file_writer.py</span></a><span style=\"color: #7f7f7f; text-decoration-color: #7f7f7f\">:</span><a href=\"file:///Users/nickgray/Documents/WTPD/code/.pyenv/lib/python3.10/site-packages/manim/scene/scene_file_writer.py#617\" target=\"_blank\"><span style=\"color: #7f7f7f; text-decoration-color: #7f7f7f\">617</span></a>\n",
       "</pre>\n"
      ],
      "text/plain": [
       "\u001b[2;36m                   \u001b[0m\u001b[2;36m \u001b[0m\u001b[32mINFO    \u001b[0m Combining to Movie file.                                      \u001b]8;id=67344;file:///Users/nickgray/Documents/WTPD/code/.pyenv/lib/python3.10/site-packages/manim/scene/scene_file_writer.py\u001b\\\u001b[2mscene_file_writer.py\u001b[0m\u001b]8;;\u001b\\\u001b[2m:\u001b[0m\u001b]8;id=965890;file:///Users/nickgray/Documents/WTPD/code/.pyenv/lib/python3.10/site-packages/manim/scene/scene_file_writer.py#617\u001b\\\u001b[2m617\u001b[0m\u001b]8;;\u001b\\\n"
      ]
     },
     "metadata": {},
     "output_type": "display_data"
    },
    {
     "data": {
      "text/html": [
       "<pre style=\"white-space:pre;overflow-x:auto;line-height:normal;font-family:Menlo,'DejaVu Sans Mono',consolas,'Courier New',monospace\"><span style=\"color: #7fbfbf; text-decoration-color: #7fbfbf\">                    </span><span style=\"color: #008000; text-decoration-color: #008000\">INFO    </span>                                                               <a href=\"file:///Users/nickgray/Documents/WTPD/code/.pyenv/lib/python3.10/site-packages/manim/scene/scene_file_writer.py\" target=\"_blank\"><span style=\"color: #7f7f7f; text-decoration-color: #7f7f7f\">scene_file_writer.py</span></a><span style=\"color: #7f7f7f; text-decoration-color: #7f7f7f\">:</span><a href=\"file:///Users/nickgray/Documents/WTPD/code/.pyenv/lib/python3.10/site-packages/manim/scene/scene_file_writer.py#736\" target=\"_blank\"><span style=\"color: #7f7f7f; text-decoration-color: #7f7f7f\">736</span></a>\n",
       "<span style=\"color: #7fbfbf; text-decoration-color: #7fbfbf\">                    </span>         <span style=\"color: #808000; text-decoration-color: #808000; font-weight: bold\">File</span> ready at                                                 <span style=\"color: #7f7f7f; text-decoration-color: #7f7f7f\">                        </span>\n",
       "<span style=\"color: #7fbfbf; text-decoration-color: #7fbfbf\">                    </span>         <span style=\"color: #008000; text-decoration-color: #008000\">'/Users/nickgray/Documents/WTPD/code/media/videos/code/2160p6</span> <span style=\"color: #7f7f7f; text-decoration-color: #7f7f7f\">                        </span>\n",
       "<span style=\"color: #7fbfbf; text-decoration-color: #7fbfbf\">                    </span>         <span style=\"color: #008000; text-decoration-color: #008000\">0/PreciseTable.mp4'</span>                                           <span style=\"color: #7f7f7f; text-decoration-color: #7f7f7f\">                        </span>\n",
       "<span style=\"color: #7fbfbf; text-decoration-color: #7fbfbf\">                    </span>                                                                       <span style=\"color: #7f7f7f; text-decoration-color: #7f7f7f\">                        </span>\n",
       "</pre>\n"
      ],
      "text/plain": [
       "\u001b[2;36m                   \u001b[0m\u001b[2;36m \u001b[0m\u001b[32mINFO    \u001b[0m                                                               \u001b]8;id=987346;file:///Users/nickgray/Documents/WTPD/code/.pyenv/lib/python3.10/site-packages/manim/scene/scene_file_writer.py\u001b\\\u001b[2mscene_file_writer.py\u001b[0m\u001b]8;;\u001b\\\u001b[2m:\u001b[0m\u001b]8;id=501832;file:///Users/nickgray/Documents/WTPD/code/.pyenv/lib/python3.10/site-packages/manim/scene/scene_file_writer.py#736\u001b\\\u001b[2m736\u001b[0m\u001b]8;;\u001b\\\n",
       "\u001b[2;36m                    \u001b[0m         \u001b[1;33mFile\u001b[0m ready at                                                 \u001b[2m                        \u001b[0m\n",
       "\u001b[2;36m                    \u001b[0m         \u001b[32m'/Users/nickgray/Documents/WTPD/code/media/videos/code/2160p6\u001b[0m \u001b[2m                        \u001b[0m\n",
       "\u001b[2;36m                    \u001b[0m         \u001b[32m0/PreciseTable.mp4'\u001b[0m                                           \u001b[2m                        \u001b[0m\n",
       "\u001b[2;36m                    \u001b[0m                                                                       \u001b[2m                        \u001b[0m\n"
      ]
     },
     "metadata": {},
     "output_type": "display_data"
    },
    {
     "data": {
      "text/html": [
       "<pre style=\"white-space:pre;overflow-x:auto;line-height:normal;font-family:Menlo,'DejaVu Sans Mono',consolas,'Courier New',monospace\"><span style=\"color: #7fbfbf; text-decoration-color: #7fbfbf\">                    </span><span style=\"color: #008000; text-decoration-color: #008000\">INFO    </span> <span style=\"color: #808000; text-decoration-color: #808000; font-weight: bold\">Rendered</span> PreciseTable                                                     <a href=\"file:///Users/nickgray/Documents/WTPD/code/.pyenv/lib/python3.10/site-packages/manim/scene/scene.py\" target=\"_blank\"><span style=\"color: #7f7f7f; text-decoration-color: #7f7f7f\">scene.py</span></a><span style=\"color: #7f7f7f; text-decoration-color: #7f7f7f\">:</span><a href=\"file:///Users/nickgray/Documents/WTPD/code/.pyenv/lib/python3.10/site-packages/manim/scene/scene.py#241\" target=\"_blank\"><span style=\"color: #7f7f7f; text-decoration-color: #7f7f7f\">241</span></a>\n",
       "<span style=\"color: #7fbfbf; text-decoration-color: #7fbfbf\">                    </span>         <span style=\"color: #808000; text-decoration-color: #808000; font-weight: bold\">Played</span> <span style=\"color: #008000; text-decoration-color: #008000\">6</span> <span style=\"color: #808000; text-decoration-color: #808000; font-weight: bold\">animations</span>                                                       <span style=\"color: #7f7f7f; text-decoration-color: #7f7f7f\">            </span>\n",
       "</pre>\n"
      ],
      "text/plain": [
       "\u001b[2;36m                   \u001b[0m\u001b[2;36m \u001b[0m\u001b[32mINFO    \u001b[0m \u001b[1;33mRendered\u001b[0m PreciseTable                                                     \u001b]8;id=144559;file:///Users/nickgray/Documents/WTPD/code/.pyenv/lib/python3.10/site-packages/manim/scene/scene.py\u001b\\\u001b[2mscene.py\u001b[0m\u001b]8;;\u001b\\\u001b[2m:\u001b[0m\u001b]8;id=548523;file:///Users/nickgray/Documents/WTPD/code/.pyenv/lib/python3.10/site-packages/manim/scene/scene.py#241\u001b\\\u001b[2m241\u001b[0m\u001b]8;;\u001b\\\n",
       "\u001b[2;36m                    \u001b[0m         \u001b[1;33mPlayed\u001b[0m \u001b[32m6\u001b[0m \u001b[1;33manimations\u001b[0m                                                       \u001b[2m            \u001b[0m\n"
      ]
     },
     "metadata": {},
     "output_type": "display_data"
    },
    {
     "data": {
      "text/html": [
       "<video src=\"media/jupyter/PreciseTable@2023-09-13@13-08-55.mp4\" controls autoplay loop style=\"max-width: 60%;\"  >\n",
       "      Your browser does not support the <code>video</code> element.\n",
       "    </video>"
      ],
      "text/plain": [
       "<IPython.core.display.Video object>"
      ]
     },
     "metadata": {},
     "output_type": "display_data"
    }
   ],
   "source": [
    "%%manim -qk WARNING PreciseTable\n",
    "class PreciseTable(Scene):\n",
    "    def construct(self):\n",
    "        \n",
    "        title = Text(\"Precise Output\")\n",
    "        title.to_edge(UP)\n",
    "        self.add(title)\n",
    "        \n",
    "        \n",
    "        table = MathTable(\n",
    "            [\n",
    "                [\n",
    "                    r\"y \\in \\left\\{ \\top,\\bot \\right\\}\", \n",
    "                    r\"y \\in \\left\\{A,B,C,\\cdots\\right\\}\" \n",
    "                ],\n",
    "                [\n",
    "                    r\"y \\in [a,b]\",\n",
    "                    r\"y = \\begin{pmatrix}  y_1\\in[a,b] \\\\  \\vdots \\\\ y_n = [c,d]  \\end{pmatrix}\"\n",
    "                ]\n",
    "            ],\n",
    "            row_labels = [\n",
    "                Tex(\"Discrete\"),\n",
    "                Tex(\"Continuous\")\n",
    "            ],\n",
    "            col_labels = [\n",
    "                Tex(\"Univariate\"),\n",
    "                Tex(\"Multivariate\")\n",
    "            ],\n",
    "            include_outer_lines=True).scale(0.7)\n",
    "        # Iterate through each cell and apply Write animation\n",
    "        self.play(\n",
    "            AnimationGroup(\n",
    "                AnimationGroup(\n",
    "                    Write(table.get_vertical_lines()),\n",
    "                    Write(table.get_horizontal_lines()),run_time=2\n",
    "                ),\n",
    "                AnimationGroup(\n",
    "                    Write(table.get_col_labels()[0]),\n",
    "                    Write(table.get_col_labels()[1]),\n",
    "                    Write(table.get_row_labels()[0]),\n",
    "                    Write(table.get_row_labels()[1]),\n",
    "                    lag_ratio=0.75,\n",
    "                    run_time=2\n",
    "                ), lag_ratio=0.5\n",
    "            )\n",
    "        )\n",
    "        for cell in table.get_entries_without_labels():\n",
    "            self.play(Write(cell))\n",
    "\n",
    "        self.wait()\n",
    "        \n"
   ]
  },
  {
   "cell_type": "code",
   "execution_count": null,
   "metadata": {},
   "outputs": [],
   "source": [
    "%% manim -qk WARNING ProbTable\n",
    "class ProbTable(Scene):\n",
    "\n",
    "    def construct(self):\n",
    "        title = Text(\"Precise Output\")\n",
    "        title.to_edge(UP)\n",
    "        self.add(title)\n",
    "\n",
    "        table = MathTable(\n",
    "            [\n",
    "                [\n",
    "                    r\"y \\in \\left\\{ \\top,\\bot \\right\\}\", \n",
    "                    r\"y \\in \\left\\{A,B,C,\\cdots\\right\\}\" \n",
    "                ],\n",
    "                [\n",
    "                    r\"y \\in [a,b]\",\n",
    "                    r\"y = \\begin{pmatrix}  y_1\\in[a,b] \\\\  \\vdots \\\\ y_n = [c,d]  \\end{pmatrix}\"\n",
    "                ]\n",
    "            ],\n",
    "            row_labels = [\n",
    "                Tex(\"Discrete\"),\n",
    "                Tex(\"Continuous\")\n",
    "            ],\n",
    "            col_labels = [\n",
    "                Tex(\"Univariate\"),\n",
    "                Tex(\"Multivariate\")\n",
    "            ],\n",
    "            include_outer_lines=True).scale(0.7)\n",
    "        \n",
    "        updated_table = MathTable(\n",
    "            [\n",
    "                [\n",
    "                    r\"y = \\Pr(y=\\top)\", \n",
    "                    r\"y = \\begin{Bmatrix}  \\Pr(y=A)\\\\ \\Pr(y=B)\\\\  \\vdots\\\\ \\end{Bmatrix}\" \n",
    "                ],\n",
    "                [\n",
    "                    r\"y = \\Pr(y=Y\\in[a,b])\",\n",
    "                    r\"y = \\begin{pmatrix}  \\Pr(y_1=Y_1\\in[a,b])\\\\  \\vdots\\\\  \\Pr(y_2=Y_2\\in[a,b]) \\end{pmatrix}\"\n",
    "                ]\n",
    "            ],\n",
    "            row_labels = [\n",
    "                Tex(\"Discrete\"),\n",
    "                Tex(\"Continuous\")\n",
    "            ],\n",
    "            col_labels = [\n",
    "                Tex(\"Univariate\"),\n",
    "                Tex(\"Multivariate\")\n",
    "            ],\n",
    "            include_outer_lines=True).scale(0.7)\n",
    "        \n",
    "        self.add(updated_table.get_vertical_lines())\n",
    "        self.add(updated_table.get_horizontal_lines())\n",
    "        self.add(updated_table.get_col_labels())\n",
    "        self.add(updated_table.get_row_labels())\n",
    "        \n",
    "        anims = []\n",
    "        for old,new in zip(table.get_entries_without_labels(),updated_table.get_entries_without_labels()):\n",
    "            old.move_to(new)\n",
    "            self.add(old)\n",
    "            anims += [Transform(old,new)]\n",
    "            \n",
    "        self.wait(1)\n",
    "        self.play(Transform(title,Text(\"Probability Output\").move_to(title)))\n",
    "        for a in anims:\n",
    "            self.play(a)\n",
    "            self.wait(1)\n",
    "        self.wait()\n",
    "\n"
   ]
  },
  {
   "cell_type": "code",
   "execution_count": null,
   "metadata": {},
   "outputs": [],
   "source": [
    "%%manim -qk WARNING ProbDistTable\n",
    "class ProbDistTable(Scene):\n",
    "    def construct(self):\n",
    "        title = Text(\"Probability Output\")\n",
    "        title.to_edge(UP)\n",
    "        self.add(title)\n",
    "        table = MathTable(\n",
    "            [\n",
    "                [\n",
    "                    r\"y = \\Pr(y=\\top)\", \n",
    "                    r\"y = \\begin{Bmatrix}  \\Pr(y=A)\\\\ \\Pr(y=B)\\\\  \\vdots\\\\ \\end{Bmatrix}\" \n",
    "                ],\n",
    "                [\n",
    "                    r\"y = \\Pr(y=Y\\in[a,b])\",\n",
    "                    r\"y = \\begin{pmatrix}  \\Pr(y_1=Y_1\\in[a,b])\\\\  \\vdots\\\\  \\Pr(y_2=Y_2\\in[a,b]) \\end{pmatrix}\"\n",
    "                ]\n",
    "            ],\n",
    "            row_labels = [\n",
    "                Tex(\"Discrete\"),\n",
    "                Tex(\"Continuous\")\n",
    "            ],\n",
    "            col_labels = [\n",
    "                Tex(\"Univariate\"),\n",
    "                Tex(\"Multivariate\")\n",
    "            ],\n",
    "            include_outer_lines=True).scale(0.7)\n",
    "        \n",
    "        updated_table = MathTable(\n",
    "            [\n",
    "                [\n",
    "                    r\"y = \\Pr(y=\\top) \\sim f()\", \n",
    "                    r\"y = \\begin{Bmatrix}  \\Pr(y=A)\\sim f_A()\\\\ \\Pr(y=B)\\sim f_B()\\\\  \\vdots\\\\ \\end{Bmatrix}\" \n",
    "                ],\n",
    "                [\n",
    "                    r\"y = \\Pr(y=Y\\in[a,b])\\sim f()\",\n",
    "                    r\"y = \\begin{pmatrix}  \\Pr(y_1=Y_1\\in[a,b])\\sim f_2()\\\\  \\vdots\\\\  \\Pr(y_2=Y_2\\in[a,b])\\sim f_2() \\end{pmatrix}\"\n",
    "                ]\n",
    "            ],\n",
    "            row_labels = [\n",
    "                Tex(\"Discrete\"),\n",
    "                Tex(\"Continuous\")\n",
    "            ],\n",
    "            col_labels = [\n",
    "                Tex(\"Univariate\"),\n",
    "                Tex(\"Multivariate\")\n",
    "            ],\n",
    "            include_outer_lines=True).scale(0.7)\n",
    "        \n",
    "        self.add(updated_table.get_vertical_lines())\n",
    "        self.add(updated_table.get_horizontal_lines())\n",
    "        self.add(updated_table.get_col_labels())\n",
    "        self.add(updated_table.get_row_labels())\n",
    "        \n",
    "        anims = []\n",
    "        for old,new in zip(table.get_entries_without_labels(),updated_table.get_entries_without_labels()):\n",
    "            old.move_to(new)\n",
    "            self.add(old)\n",
    "            anims += [Transform(old,new)]\n",
    "            \n",
    "        self.wait(1)\n",
    "        \n",
    "        self.play(Transform(title,Text(\"Probability Distribution Output\").move_to(title)),AnimationGroup(*[a for a in anims],lag_ratio = 0.33,length = 4))\n",
    "        self.wait()\n",
    "\n",
    "        \n",
    "class IntTable(Scene):\n",
    "    def construct(self):\n",
    "        \n",
    "        title = Text(\"Interval Output\")\n",
    "        title.to_edge(UP)\n",
    "        self.add(title)\n",
    "        \n",
    "        table = MathTable(\n",
    "            [\n",
    "                [\n",
    "                    r\"y \\in \\left\\{ \\top,\\bot \\right\\}\", \n",
    "                    r\"y \\in \\left\\{A,B,C,\\cdots\\right\\}\" \n",
    "                ],\n",
    "                [\n",
    "                    r\"y \\in [a,b]\",\n",
    "                    r\"y = \\begin{bmatrix}  y_1\\in[a,b] \\\\  \\vdots \\\\ y_n = [c,d]  \\end{bmatrix}\"\n",
    "                ]\n",
    "            ],\n",
    "            row_labels = [\n",
    "                Tex(\"Discrete\"),\n",
    "                Tex(\"Continuous\")\n",
    "            ],\n",
    "            col_labels = [\n",
    "                Tex(\"Univariate\"),\n",
    "                Tex(\"Multivariate\")\n",
    "            ],\n",
    "            include_outer_lines=True).scale(0.7)\n",
    "        \n",
    "        updated_table = MathTable(\n",
    "            [\n",
    "                [\n",
    "                    r\"y \\in \\left\\{\\top,\\bot,[\\top,\\bot] \\right\\}\", \n",
    "                    r\"y \\subseteq \\left\\{A,B,C,\\cdots\\right\\}\" \n",
    "\n",
    "                ],\n",
    "                [\n",
    "                    r\"y = \\left[ \\interval{y} \\right] \\in[a,b]\",\n",
    "                    r\"y = \\begin{pmatrix}  y_1 = \\interval{y_1} \\in[a,b]\\\\  \\vdots\\\\  y_n = \\interval{y_n} \\in[c,d] \\end{pmatrix}\"\n",
    "                ]\n",
    "            ],\n",
    "            row_labels = [\n",
    "                Tex(\"Discrete\"),\n",
    "                Tex(\"Continuous\")\n",
    "            ],\n",
    "            col_labels = [\n",
    "                Tex(\"Univariate\"),\n",
    "                Tex(\"Multivariate\")\n",
    "            ],\n",
    "            include_outer_lines=True).scale(0.7)\n",
    "        \n",
    "        self.add(updated_table.get_vertical_lines())\n",
    "        self.add(updated_table.get_horizontal_lines())\n",
    "        self.add(updated_table.get_col_labels())\n",
    "        self.add(updated_table.get_row_labels())\n",
    "        \n",
    "        anims = []\n",
    "        for old,new in zip(table.get_entries_without_labels(),updated_table.get_entries_without_labels()):\n",
    "            old.move_to(new)\n",
    "            self.add(old)\n",
    "            anims += [Transform(old,new)]\n",
    "        self.wait(1)\n",
    "        \n",
    "        self.play(Transform(title,Text(\"Interval Output\").move_to(title)))\n",
    "    \n",
    "        for a in anims:\n",
    "            self.play(a)\n",
    "            self.wait(1)\n",
    "        self.wait()\n",
    "        \n",
    "%% manim -qk        \n",
    "class IPTable(Scene):\n",
    "    def construct(self):\n",
    "        \n",
    "        title = Text(\"Interval Output\")\n",
    "        title.to_edge(UP)\n",
    "        self.add(title)\n",
    "        \n",
    "        table = MathTable(\n",
    "            [\n",
    "                [\n",
    "                    r\"y \\in \\left\\{\\top,\\bot,[\\top,\\bot] \\right\\}\", \n",
    "                    r\"y \\subseteq \\left\\{A,B,C,\\cdots\\right\\}\" \n",
    "\n",
    "                ],\n",
    "                [\n",
    "                    r\"y = \\left[ \\interval{y} \\right] \\in[a,b]\",\n",
    "                    r\"y = \\begin{pmatrix}  y_1 = \\interval{y_1} \\in[a,b]\\\\  \\vdots\\\\  y_n = \\interval{y_n} \\in[c,d] \\end{pmatrix}\"\n",
    "                ]\n",
    "            ],\n",
    "            row_labels = [\n",
    "                Tex(\"Discrete\"),\n",
    "                Tex(\"Continuous\")\n",
    "            ],\n",
    "            col_labels = [\n",
    "                Tex(\"Univariate\"),\n",
    "                Tex(\"Multivariate\")\n",
    "            ],\n",
    "            include_outer_lines=True).scale(0.7)\n",
    "        \n",
    "        updated_table = MathTable(\n",
    "            [\n",
    "                [\n",
    "                    r\"y = \\Pr(y=\\top) \\sim \\interval{f}()\", \n",
    "                    r\"y = \\begin{Bmatrix}  \\Pr(y=A)\\sim \\interval{f_A()}\\\\ \\Pr(y=B)\\sim \\interval{f_B()}\\\\  \\vdots\\\\ \\end{Bmatrix}\" \n",
    "                ],\n",
    "                [\n",
    "                    r\"y = \\Pr(y=Y\\in[a,b])\\sim f()\",\n",
    "                    r\"y = \\begin{pmatrix}  \\Pr(y_1=Y_1\\in[a,b])\\sim \\interval{f_2()}\\\\  \\vdots\\\\  \\Pr(y_2=Y_2\\in[a,b])\\sim \\interval{f_2()} \\end{pmatrix}\"\n",
    "                ]\n",
    "            ],\n",
    "            row_labels = [\n",
    "                Tex(\"Discrete\"),\n",
    "                Tex(\"Continuous\")\n",
    "            ],\n",
    "            col_labels = [\n",
    "                Tex(\"Univariate\"),\n",
    "                Tex(\"Multivariate\")\n",
    "            ],\n",
    "            include_outer_lines=True).scale(0.6)\n",
    "        \n",
    "        self.add(updated_table.get_vertical_lines())\n",
    "        self.add(updated_table.get_horizontal_lines())\n",
    "        self.add(updated_table.get_col_labels())\n",
    "        self.add(updated_table.get_row_labels())\n",
    "        \n",
    "        anims = []\n",
    "        for old,new in zip(table.get_entries_without_labels(),updated_table.get_entries_without_labels()):\n",
    "            old.move_to(new)\n",
    "            self.add(old)\n",
    "            anims += [Transform(old,new)]\n",
    "        self.wait(1)\n",
    "        self.play(Transform(title,Text(\"Imprecise Probability Output\").move_to(title)))\n",
    "        for a in anims:\n",
    "            self.play(a)\n",
    "            self.wait(1)\n",
    "        self.wait()\n",
    "        \n"
   ]
  }
 ],
 "metadata": {
  "kernelspec": {
   "display_name": ".pyenv",
   "language": "python",
   "name": "python3"
  },
  "language_info": {
   "codemirror_mode": {
    "name": "ipython",
    "version": 3
   },
   "file_extension": ".py",
   "mimetype": "text/x-python",
   "name": "python",
   "nbconvert_exporter": "python",
   "pygments_lexer": "ipython3",
   "version": "3.10.0"
  },
  "orig_nbformat": 4,
  "vscode": {
   "interpreter": {
    "hash": "c2b1ff7319898be1c93def6375d6a00be810ede83999ae1dd1ceb6278b5c2570"
   }
  }
 },
 "nbformat": 4,
 "nbformat_minor": 2
}
